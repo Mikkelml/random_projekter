{
 "cells": [
  {
   "attachments": {},
   "cell_type": "markdown",
   "metadata": {},
   "source": [
    "# The weather forecast for today"
   ]
  },
  {
   "cell_type": "code",
   "execution_count": 1,
   "metadata": {},
   "outputs": [
    {
     "name": "stderr",
     "output_type": "stream",
     "text": [
      "/Users/mikkelpedersen/anaconda3/lib/python3.11/site-packages/pandas/core/arrays/masked.py:60: UserWarning: Pandas requires version '1.3.6' or newer of 'bottleneck' (version '1.3.5' currently installed).\n",
      "  from pandas.core import (\n"
     ]
    }
   ],
   "source": [
    "import datetime as dt \n",
    "import requests\n",
    "import json\n",
    "import pandas as pd \n",
    "\n",
    "pd.options.display.max_rows = 500"
   ]
  },
  {
   "cell_type": "code",
   "execution_count": 2,
   "metadata": {},
   "outputs": [],
   "source": [
    "base_url = 'https://api.openweathermap.org/data/2.5/weather?'\n",
    "API_key = 'b765e9524535b7f51e9fbc2cce7f076d'"
   ]
  },
  {
   "attachments": {},
   "cell_type": "markdown",
   "metadata": {},
   "source": [
    "### List of cities"
   ]
  },
  {
   "cell_type": "code",
   "execution_count": 3,
   "metadata": {},
   "outputs": [],
   "source": [
    "city_list = pd.read_csv('/Users/mikkelpedersen/Desktop/project_vs_studio/wheater_api/cities_list.csv', delimiter=';')"
   ]
  },
  {
   "cell_type": "code",
   "execution_count": 4,
   "metadata": {},
   "outputs": [
    {
     "data": {
      "text/html": [
       "<div>\n",
       "<style scoped>\n",
       "    .dataframe tbody tr th:only-of-type {\n",
       "        vertical-align: middle;\n",
       "    }\n",
       "\n",
       "    .dataframe tbody tr th {\n",
       "        vertical-align: top;\n",
       "    }\n",
       "\n",
       "    .dataframe thead th {\n",
       "        text-align: right;\n",
       "    }\n",
       "</style>\n",
       "<table border=\"1\" class=\"dataframe\">\n",
       "  <thead>\n",
       "    <tr style=\"text-align: right;\">\n",
       "      <th></th>\n",
       "      <th>name</th>\n",
       "      <th>lon</th>\n",
       "      <th>lat</th>\n",
       "      <th>country</th>\n",
       "    </tr>\n",
       "  </thead>\n",
       "  <tbody>\n",
       "    <tr>\n",
       "      <th>0</th>\n",
       "      <td>Abidjan</td>\n",
       "      <td>-4,00167</td>\n",
       "      <td>5,35444</td>\n",
       "      <td>Ivory Coast</td>\n",
       "    </tr>\n",
       "    <tr>\n",
       "      <th>1</th>\n",
       "      <td>Abu Dhabi</td>\n",
       "      <td>54,39696</td>\n",
       "      <td>24,45118</td>\n",
       "      <td>United Arab Emirates</td>\n",
       "    </tr>\n",
       "    <tr>\n",
       "      <th>2</th>\n",
       "      <td>Abuja</td>\n",
       "      <td>7,49508</td>\n",
       "      <td>9,05785</td>\n",
       "      <td>Nigeria</td>\n",
       "    </tr>\n",
       "    <tr>\n",
       "      <th>3</th>\n",
       "      <td>Accra</td>\n",
       "      <td>-0,1969</td>\n",
       "      <td>5,55602</td>\n",
       "      <td>Ghana</td>\n",
       "    </tr>\n",
       "    <tr>\n",
       "      <th>4</th>\n",
       "      <td>Addis Ababa</td>\n",
       "      <td>38,74689</td>\n",
       "      <td>9,02497</td>\n",
       "      <td>Ethiopia</td>\n",
       "    </tr>\n",
       "    <tr>\n",
       "      <th>5</th>\n",
       "      <td>Ahmedabad</td>\n",
       "      <td>72,58727</td>\n",
       "      <td>23,02579</td>\n",
       "      <td>India</td>\n",
       "    </tr>\n",
       "    <tr>\n",
       "      <th>6</th>\n",
       "      <td>Aleppo</td>\n",
       "      <td>37,16117</td>\n",
       "      <td>36,20124</td>\n",
       "      <td>Syria</td>\n",
       "    </tr>\n",
       "    <tr>\n",
       "      <th>7</th>\n",
       "      <td>Alexandria</td>\n",
       "      <td>29,91582</td>\n",
       "      <td>31,20176</td>\n",
       "      <td>Egypt</td>\n",
       "    </tr>\n",
       "    <tr>\n",
       "      <th>8</th>\n",
       "      <td>Algiers</td>\n",
       "      <td>3,08746</td>\n",
       "      <td>36,73225</td>\n",
       "      <td>Algeria</td>\n",
       "    </tr>\n",
       "    <tr>\n",
       "      <th>9</th>\n",
       "      <td>Almaty</td>\n",
       "      <td>76,92861</td>\n",
       "      <td>43,25667</td>\n",
       "      <td>Kazakhstan</td>\n",
       "    </tr>\n",
       "    <tr>\n",
       "      <th>10</th>\n",
       "      <td>Amman</td>\n",
       "      <td>35,94503</td>\n",
       "      <td>31,95522</td>\n",
       "      <td>Jordan</td>\n",
       "    </tr>\n",
       "    <tr>\n",
       "      <th>11</th>\n",
       "      <td>Amsterdam</td>\n",
       "      <td>4,88969</td>\n",
       "      <td>52,37403</td>\n",
       "      <td>Netherlands</td>\n",
       "    </tr>\n",
       "    <tr>\n",
       "      <th>12</th>\n",
       "      <td>Anchorage</td>\n",
       "      <td>-149,90028</td>\n",
       "      <td>61,21806</td>\n",
       "      <td>United States</td>\n",
       "    </tr>\n",
       "    <tr>\n",
       "      <th>13</th>\n",
       "      <td>Andorra la Vella</td>\n",
       "      <td>1,52109</td>\n",
       "      <td>42,50779</td>\n",
       "      <td>Andorra</td>\n",
       "    </tr>\n",
       "    <tr>\n",
       "      <th>14</th>\n",
       "      <td>Ankara</td>\n",
       "      <td>32,85427</td>\n",
       "      <td>39,91987</td>\n",
       "      <td>Turkey</td>\n",
       "    </tr>\n",
       "    <tr>\n",
       "      <th>15</th>\n",
       "      <td>Antananarivo</td>\n",
       "      <td>47,53613</td>\n",
       "      <td>-18,91368</td>\n",
       "      <td>Madagascar</td>\n",
       "    </tr>\n",
       "    <tr>\n",
       "      <th>16</th>\n",
       "      <td>Apia</td>\n",
       "      <td>-171,76666</td>\n",
       "      <td>-13,83333</td>\n",
       "      <td>Samoa</td>\n",
       "    </tr>\n",
       "    <tr>\n",
       "      <th>17</th>\n",
       "      <td>Arnold</td>\n",
       "      <td>-120,351935</td>\n",
       "      <td>38,255366</td>\n",
       "      <td>United States</td>\n",
       "    </tr>\n",
       "    <tr>\n",
       "      <th>18</th>\n",
       "      <td>Ashgabat</td>\n",
       "      <td>58,38333</td>\n",
       "      <td>37,95</td>\n",
       "      <td>Turkmenistan</td>\n",
       "    </tr>\n",
       "    <tr>\n",
       "      <th>19</th>\n",
       "      <td>Asmara</td>\n",
       "      <td>38,93184</td>\n",
       "      <td>15,33805</td>\n",
       "      <td>Eritrea</td>\n",
       "    </tr>\n",
       "  </tbody>\n",
       "</table>\n",
       "</div>"
      ],
      "text/plain": [
       "                name          lon        lat               country\n",
       "0            Abidjan     -4,00167    5,35444           Ivory Coast\n",
       "1          Abu Dhabi     54,39696   24,45118  United Arab Emirates\n",
       "2              Abuja      7,49508    9,05785               Nigeria\n",
       "3              Accra      -0,1969    5,55602                 Ghana\n",
       "4        Addis Ababa     38,74689    9,02497              Ethiopia\n",
       "5          Ahmedabad     72,58727   23,02579                 India\n",
       "6             Aleppo     37,16117   36,20124                 Syria\n",
       "7         Alexandria     29,91582   31,20176                 Egypt\n",
       "8            Algiers      3,08746   36,73225               Algeria\n",
       "9             Almaty     76,92861   43,25667            Kazakhstan\n",
       "10             Amman     35,94503   31,95522                Jordan\n",
       "11         Amsterdam      4,88969   52,37403           Netherlands\n",
       "12         Anchorage   -149,90028   61,21806         United States\n",
       "13  Andorra la Vella      1,52109   42,50779               Andorra\n",
       "14            Ankara     32,85427   39,91987                Turkey\n",
       "15      Antananarivo     47,53613  -18,91368            Madagascar\n",
       "16              Apia   -171,76666  -13,83333                 Samoa\n",
       "17            Arnold  -120,351935  38,255366         United States\n",
       "18          Ashgabat     58,38333      37,95          Turkmenistan\n",
       "19            Asmara     38,93184   15,33805               Eritrea"
      ]
     },
     "execution_count": 4,
     "metadata": {},
     "output_type": "execute_result"
    }
   ],
   "source": [
    "city_list.head(20)"
   ]
  },
  {
   "cell_type": "code",
   "execution_count": 7,
   "metadata": {},
   "outputs": [],
   "source": [
    "def kelvin_to_celcius_fahrenhit(kelvin):\n",
    "    celcius = kelvin - 273\n",
    "    fahrenheit = celcius * (9/5) + 32\n",
    "    return celcius, fahrenheit"
   ]
  },
  {
   "cell_type": "code",
   "execution_count": 8,
   "metadata": {},
   "outputs": [],
   "source": [
    "def see_forecast(city_name):\n",
    "    url_forecast = base_url + 'appid=' + API_key + '&q=' + city_name\n",
    "    wforecast = requests.get(url_forecast).json()  \n",
    "    \n",
    "    wfcity_name = wforecast['name']\n",
    "    wflat_city = wforecast['coord']['lat']\n",
    "    wflon_city = wforecast['coord']['lon']\n",
    "    wfcountry = wforecast['sys']['country']\n",
    "\n",
    "    wftemp_kelvin = wforecast['main']['temp']\n",
    "    wftemp_celcius, wftemp_fahrenhit = kelvin_to_celcius_fahrenhit(wftemp_kelvin)\n",
    "    wffeels_like = wforecast['main']['feels_like']\n",
    "    wffeels_like_celsius, wffeels_like_fahrenhit = kelvin_to_celcius_fahrenhit(wffeels_like)\n",
    "    wfhumidity = wforecast['main']['humidity']\n",
    "    wfwindspeed = wforecast['wind']['speed']\n",
    "    wfdescription = wforecast['weather'][0]['description']\n",
    "    wfclouds = wforecast['clouds']['all']\n",
    "\n",
    "    wfsunrise_time = dt.datetime.utcfromtimestamp(wforecast['sys']['sunrise'] + wforecast['timezone'])\n",
    "    wfsunset_time = dt.datetime.utcfromtimestamp(wforecast['sys']['sunset'] + wforecast['timezone'])\n",
    "    \n",
    "    \n",
    "    print(f'This is the city of which you are seeing the weather forecast: {wfcity_name}')\n",
    "    print(f'This is the longtitude: {wflon_city} and latitude: {wflat_city} of the city')\n",
    "    print(f'this is the county of the city: {wfcountry}')\n",
    "    print(f'the temp is {round(wftemp_celcius,2)} in celsius, and {round(wftemp_fahrenhit, 2)} fahrenhit')\n",
    "    print(f'The tempature feels like {round(wffeels_like_celsius,2)} in celsius and {round(wffeels_like_fahrenhit,2)} in fahrenhit')\n",
    "    print(f'The humidity is: {wfhumidity}')\n",
    "    print(f'The windspeed is: {wfwindspeed}')\n",
    "    print(f'Today the weather is {wfdescription}')\n",
    "    print(f'The amount of clouds is: {wfclouds}')\n",
    "    print(f'Today the sun will rise at {wfsunrise_time} and set at {wfsunset_time}')\n"
   ]
  },
  {
   "cell_type": "code",
   "execution_count": 9,
   "metadata": {},
   "outputs": [
    {
     "name": "stdout",
     "output_type": "stream",
     "text": [
      "This is the city of which you are seeing the weather forecast: Copenhagen\n",
      "This is the longtitude: 12.5655 and latitude: 55.6759 of the city\n",
      "this is the county of the city: DK\n",
      "the temp is 8.79 in celsius, and 47.82 fahrenhit\n",
      "The tempature feels like 4.86 in celsius and 40.75 in fahrenhit\n",
      "The humidity is: 80\n",
      "The windspeed is: 8.75\n",
      "Today the weather is clear sky\n",
      "The amount of clouds is: 2\n",
      "Today the sun will rise at 2024-10-03 07:16:50 and set at 2024-10-03 18:40:19\n"
     ]
    }
   ],
   "source": [
    "see_forecast('Copenhagen')"
   ]
  },
  {
   "attachments": {},
   "cell_type": "markdown",
   "metadata": {},
   "source": [
    "### Map the forecast into a pandas DataFrame"
   ]
  },
  {
   "cell_type": "code",
   "execution_count": 5,
   "metadata": {},
   "outputs": [],
   "source": [
    "city = 'Frederiksberg'\n",
    "url = base_url + 'appid=' + API_key + '&q=' + city\n",
    "response = requests.get(url).json()  "
   ]
  },
  {
   "cell_type": "code",
   "execution_count": 6,
   "metadata": {},
   "outputs": [
    {
     "name": "stdout",
     "output_type": "stream",
     "text": [
      "{'coord': {'lon': 12.5346, 'lat': 55.6794}, 'weather': [{'id': 801, 'main': 'Clouds', 'description': 'few clouds', 'icon': '02d'}], 'base': 'stations', 'main': {'temp': 281.39, 'feels_like': 277.21, 'temp_min': 279.67, 'temp_max': 282.49, 'pressure': 1018, 'humidity': 83, 'sea_level': 1018, 'grnd_level': 1017}, 'visibility': 10000, 'wind': {'speed': 9.26, 'deg': 30}, 'clouds': {'all': 23}, 'dt': 1727935950, 'sys': {'type': 2, 'id': 2035645, 'country': 'DK', 'sunrise': 1727932617, 'sunset': 1727973627}, 'timezone': 7200, 'id': 2621942, 'name': 'Frederiksberg', 'cod': 200}\n"
     ]
    }
   ],
   "source": [
    "print(response)"
   ]
  },
  {
   "cell_type": "code",
   "execution_count": 18,
   "metadata": {},
   "outputs": [],
   "source": [
    "existing_df = pd.read_csv('weather_data.csv')"
   ]
  },
  {
   "cell_type": "code",
   "execution_count": 19,
   "metadata": {},
   "outputs": [],
   "source": [
    "def flatten_dict(d, parent_key='', sep='_'):\n",
    "    \"\"\"\n",
    "    Flatten a nested dictionary.\n",
    "    \n",
    "    Args:\n",
    "        d (dict): The dictionary to flatten.\n",
    "        parent_key (str): The base key string for nested keys.\n",
    "        sep (str): Separator to use between parent and child keys.\n",
    "        \n",
    "    Returns:\n",
    "        dict: A flattened dictionary.\n",
    "    \"\"\"\n",
    "    items = {}\n",
    "    for k, v in d.items():\n",
    "        new_key = f\"{parent_key}{sep}{k}\" if parent_key else k\n",
    "        if isinstance(v, dict):\n",
    "            items.update(flatten_dict(v, new_key, sep=sep))\n",
    "        elif isinstance(v, list):\n",
    "            for i, item in enumerate(v):\n",
    "                if isinstance(item, dict):\n",
    "                    items.update(flatten_dict(item, f\"{new_key}{sep}{i}\", sep=sep))\n",
    "                else:\n",
    "                    items[f\"{new_key}{sep}{i}\"] = item\n",
    "        else:\n",
    "            items[new_key] = v\n",
    "    return items"
   ]
  },
  {
   "cell_type": "code",
   "execution_count": 20,
   "metadata": {},
   "outputs": [
    {
     "name": "stdout",
     "output_type": "stream",
     "text": [
      "{'coord': {'lon': 12.5346, 'lat': 55.6794}, 'weather': [{'id': 801, 'main': 'Clouds', 'description': 'few clouds', 'icon': '02d'}], 'base': 'stations', 'main': {'temp': 281.39, 'feels_like': 277.21, 'temp_min': 279.67, 'temp_max': 282.49, 'pressure': 1018, 'humidity': 83, 'sea_level': 1018, 'grnd_level': 1017}, 'visibility': 10000, 'wind': {'speed': 9.26, 'deg': 30}, 'clouds': {'all': 23}, 'dt': 1727935950, 'sys': {'type': 2, 'id': 2035645, 'country': 'DK', 'sunrise': 1727932617, 'sunset': 1727973627}, 'timezone': 7200, 'id': 2621942, 'name': 'Frederiksberg', 'cod': 200}\n"
     ]
    }
   ],
   "source": [
    "print(response)"
   ]
  },
  {
   "cell_type": "code",
   "execution_count": 22,
   "metadata": {},
   "outputs": [],
   "source": [
    "temp_kelvin = response['main']['temp']\n",
    "temp_celcius, temp_fahrenhit = kelvin_to_celcius_fahrenhit(temp_kelvin)\n",
    "feels_like = response['main']['feels_like']\n",
    "feels_like_celsius, feels_like_fahrenhit = kelvin_to_celcius_fahrenhit(feels_like)\n",
    "\n",
    "\n",
    "\n",
    "#'gust': response['wind']['gust']  -> if the api does not provide it\n",
    "data = {\n",
    "    'coord': {'lon': response['coord']['lon'], 'lat': response['coord']['lat']},\n",
    "    'weather': [{'id': response['weather'][0]['id'],\n",
    "                 'main': response['weather'][0]['main'],\n",
    "                 'description': response['weather'][0]['description'], \n",
    "                 'icon': response['weather'][0]['icon']}],\n",
    "    'base': response['base'],\n",
    "    'main': {\n",
    "        'temp': response['main']['temp'],\n",
    "        'temp_celsius': temp_celcius,\n",
    "        'feel_like_celsius': feels_like_celsius,\n",
    "        'feels_like': response['main']['feels_like'],\n",
    "        'temp_min': response['main']['temp_min'],\n",
    "        'temp_max': response['main']['temp_max'],\n",
    "        'pressure': response['main']['pressure'],\n",
    "        'humidity': response['main']['humidity'],\n",
    "        'sea_level': response['main']['sea_level'],\n",
    "        'grnd_level': response['main']['grnd_level']\n",
    "    },\n",
    "    'visibility': response['visibility'],\n",
    "    'wind': {'speed': response['wind']['speed'], 'deg': response['wind']['deg']},\n",
    "    'clouds': {'all': response['clouds']['all']},\n",
    "    'dt': response['dt'],\n",
    "    'sys': {\n",
    "        'type': response['sys']['type'],\n",
    "        'id': response['sys']['id'],\n",
    "        'country': response['sys']['country'],\n",
    "        'sunrise': response['sys']['sunrise'],\n",
    "        'sunset': response['sys']['sunset']\n",
    "    },\n",
    "    'timezone': response['timezone'],\n",
    "    'id': response['id'],\n",
    "    'name': response['name'],\n",
    "    'cod': response['cod']\n",
    "}\n",
    "\n",
    "flattened_data = flatten_dict(data)\n"
   ]
  },
  {
   "cell_type": "code",
   "execution_count": 23,
   "metadata": {},
   "outputs": [],
   "source": [
    "new_df = pd.concat([existing_df, pd.DataFrame([flattened_data])], ignore_index=True)\n",
    "\n",
    "# Step 3: Concatenate the new DataFrame with the existing DataFrame\n",
    "#updated_df = pd.concat([existing_df, new_df], ignore_index=True)\n",
    "\n",
    "# Step 4: Save the updated DataFrame back to the CSV file\n",
    "new_df.to_csv('weather_data.csv', index=False)"
   ]
  }
 ],
 "metadata": {
  "kernelspec": {
   "display_name": "base",
   "language": "python",
   "name": "python3"
  },
  "language_info": {
   "codemirror_mode": {
    "name": "ipython",
    "version": 3
   },
   "file_extension": ".py",
   "mimetype": "text/x-python",
   "name": "python",
   "nbconvert_exporter": "python",
   "pygments_lexer": "ipython3",
   "version": "3.11.5"
  },
  "orig_nbformat": 4
 },
 "nbformat": 4,
 "nbformat_minor": 2
}
